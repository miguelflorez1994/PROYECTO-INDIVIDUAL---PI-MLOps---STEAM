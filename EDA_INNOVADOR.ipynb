{
 "cells": [
  {
   "cell_type": "markdown",
   "metadata": {},
   "source": [
    "Chequeo de valores nulos"
   ]
  },
  {
   "cell_type": "code",
   "execution_count": null,
   "metadata": {},
   "outputs": [],
   "source": [
    "df.isnull().sum() : devuelve la cantidad de valores nulos en cada columna del dataframe df."
   ]
  },
  {
   "cell_type": "code",
   "execution_count": null,
   "metadata": {},
   "outputs": [],
   "source": [
    "df.isna().sum() : similar al anterior, pero para valores NaN (Not a Number)."
   ]
  },
  {
   "cell_type": "code",
   "execution_count": null,
   "metadata": {},
   "outputs": [],
   "source": [
    "df.info() : muestra información general sobre el dataframe, incluyendo la cantidad de valores nulos."
   ]
  },
  {
   "cell_type": "code",
   "execution_count": null,
   "metadata": {},
   "outputs": [],
   "source": [
    "import matplotlib.pyplot as plt; df.isnull().sum().plot(kind='bar'); plt.title('Valores nulos por columna'); plt.xlabel('Columnas'); plt.ylabel('Cantidad de valores nulos') : crea un gráfico de barras que muestra la cantidad de valores nulos en cada columna del dataframe df."
   ]
  },
  {
   "cell_type": "markdown",
   "metadata": {},
   "source": [
    "Chequeo de valores duplicados"
   ]
  },
  {
   "cell_type": "code",
   "execution_count": null,
   "metadata": {},
   "outputs": [],
   "source": [
    "df.duplicated().sum() : devuelve la cantidad de filas duplicadas en el dataframe df."
   ]
  },
  {
   "cell_type": "code",
   "execution_count": null,
   "metadata": {},
   "outputs": [],
   "source": [
    "df.drop_duplicates() : elimina filas duplicadas del dataframe df."
   ]
  },
  {
   "cell_type": "code",
   "execution_count": null,
   "metadata": {},
   "outputs": [],
   "source": [
    "import matplotlib.pyplot as plt; df.duplicated().sum().plot(kind='bar'); plt.title('Filas duplicadas'); plt.xlabel('Filas'); plt.ylabel('Cantidad de filas duplicadas') : crea un gráfico de barras que muestra la cantidad de filas duplicadas en el dataframe df."
   ]
  },
  {
   "cell_type": "markdown",
   "metadata": {},
   "source": [
    "Chequeo de valores faltantes"
   ]
  },
  {
   "cell_type": "code",
   "execution_count": null,
   "metadata": {},
   "outputs": [],
   "source": [
    "df.isnull().sum() : similar al chequeo de valores nulos, pero para valores faltantes."
   ]
  },
  {
   "cell_type": "code",
   "execution_count": null,
   "metadata": {},
   "outputs": [],
   "source": [
    "df.fillna(value) : reemplaza valores nulos con un valor específico value."
   ]
  },
  {
   "cell_type": "code",
   "execution_count": null,
   "metadata": {},
   "outputs": [],
   "source": [
    "df.dropna() : elimina filas con valores nulos del dataframe df."
   ]
  },
  {
   "cell_type": "code",
   "execution_count": null,
   "metadata": {},
   "outputs": [],
   "source": [
    "import matplotlib.pyplot as plt; df.isnull().sum().plot(kind='bar'); plt.title('Valores faltantes por columna'); plt.xlabel('Columnas'); plt.ylabel('Cantidad de valores faltantes') : crea un gráfico de barras que muestra la cantidad de valores faltantes en cada columna del dataframe df."
   ]
  },
  {
   "cell_type": "markdown",
   "metadata": {},
   "source": [
    "Tipos de datos"
   ]
  },
  {
   "cell_type": "code",
   "execution_count": null,
   "metadata": {},
   "outputs": [],
   "source": [
    "df.dtypes : muestra los tipos de datos de cada columna del dataframe df."
   ]
  },
  {
   "cell_type": "code",
   "execution_count": null,
   "metadata": {},
   "outputs": [],
   "source": [
    "df.select_dtypes(include=['object']) : selecciona solo las columnas de tipo objeto (cadenas) del dataframe df."
   ]
  },
  {
   "cell_type": "code",
   "execution_count": null,
   "metadata": {},
   "outputs": [],
   "source": [
    "df.select_dtypes(exclude=['object']) : selecciona solo las columnas que no son de tipo objeto (números, fechas, etc.) del dataframe df."
   ]
  },
  {
   "cell_type": "code",
   "execution_count": null,
   "metadata": {},
   "outputs": [],
   "source": [
    "import matplotlib.pyplot as plt; df.dtypes.value_counts().plot(kind='bar'); plt.title('Tipos de datos'); plt.xlabel('Tipos de datos'); plt.ylabel('Cantidad de columnas') : crea un gráfico de barras que muestra la cantidad de columnas por tipo de datos en el dataframe df."
   ]
  },
  {
   "cell_type": "markdown",
   "metadata": {},
   "source": [
    "Análisis estadístico de datos"
   ]
  },
  {
   "cell_type": "code",
   "execution_count": null,
   "metadata": {},
   "outputs": [],
   "source": [
    "df.describe() : muestra estadísticas descriptivas (media, mediana, moda, desviación estándar, etc.) para cada columna numérica del dataframe df."
   ]
  },
  {
   "cell_type": "code",
   "execution_count": null,
   "metadata": {},
   "outputs": [],
   "source": [
    "df.mean() : calcula la media de cada columna numérica del dataframe df."
   ]
  },
  {
   "cell_type": "code",
   "execution_count": null,
   "metadata": {},
   "outputs": [],
   "source": [
    "df.median() : calcula la mediana de cada columna numérica del dataframe df."
   ]
  },
  {
   "cell_type": "code",
   "execution_count": null,
   "metadata": {},
   "outputs": [],
   "source": [
    "df.mode() : calcula la moda de cada columna numérica del dataframe df."
   ]
  },
  {
   "cell_type": "code",
   "execution_count": null,
   "metadata": {},
   "outputs": [],
   "source": [
    "df.std() : calcula la desviación estándar de cada columna numérica del dataframe df."
   ]
  },
  {
   "cell_type": "code",
   "execution_count": null,
   "metadata": {},
   "outputs": [],
   "source": [
    "df.var() : calcula la varianza de cada columna numérica del dataframe df."
   ]
  },
  {
   "cell_type": "code",
   "execution_count": null,
   "metadata": {},
   "outputs": [],
   "source": [
    "import matplotlib.pyplot as plt; df.describe().plot(kind='bar'); plt.title('Estadísticas descriptivas'); plt.xlabel('Columnas'); plt.ylabel('Valores') : crea un gráfico de barras que muestra las estadísticas descriptivas para cada columna numérica del dataframe df."
   ]
  },
  {
   "cell_type": "markdown",
   "metadata": {},
   "source": [
    "diagramas de torta"
   ]
  },
  {
   "cell_type": "code",
   "execution_count": null,
   "metadata": {},
   "outputs": [],
   "source": [
    "import matplotlib.pyplot as plt; plt.pie(df['columna'].value_counts(), labels=df['columna'].unique(), autopct='%1.1f%%'); plt.title('Distribución de valores en columna'); plt.show() : crea un diagrama de torta que muestra la distribución de valores en una columna específica del dataframe df."
   ]
  },
  {
   "cell_type": "markdown",
   "metadata": {},
   "source": [
    "Histogramas"
   ]
  },
  {
   "cell_type": "code",
   "execution_count": null,
   "metadata": {},
   "outputs": [],
   "source": [
    "import matplotlib.pyplot as plt; plt.hist(df['columna'], bins=10); plt.title('Histograma de columna'); plt.xlabel('Valores'); plt.ylabel('Frecuencia') : crea un histograma que muestra la distribución de valores en una columna específica del dataframe df."
   ]
  },
  {
   "cell_type": "markdown",
   "metadata": {},
   "source": [
    "Distribuciones"
   ]
  },
  {
   "cell_type": "code",
   "execution_count": null,
   "metadata": {},
   "outputs": [],
   "source": [
    "import seaborn as sns; sns.distplot(df['columna']); plt.title('Distribución de columna'); plt.xlabel('Valores'); plt.ylabel('Frecuencia') : crea un gráfico de distribución que muestra la forma en que se distribuyen los valores en una columna específica del dataframe df."
   ]
  },
  {
   "cell_type": "markdown",
   "metadata": {},
   "source": [
    "Diagramas de bigotes"
   ]
  },
  {
   "cell_type": "code",
   "execution_count": null,
   "metadata": {},
   "outputs": [],
   "source": [
    "import matplotlib.pyplot as plt; plt.boxplot(df['columna']); plt.title('Diagrama de bigotes de columna'); plt.xlabel('Valores'); plt.ylabel('Frecuencia') : crea un diagrama de bigotes que muestra la distribución de valores en una columna específica del dataframe df."
   ]
  },
  {
   "cell_type": "markdown",
   "metadata": {},
   "source": [
    "Análisis de correlaciones de dos variables"
   ]
  },
  {
   "cell_type": "code",
   "execution_count": null,
   "metadata": {},
   "outputs": [],
   "source": [
    "df['columna1'].corr(df['columna2']) : calcula la correlación entre dos columnas específicas del dataframe df."
   ]
  },
  {
   "cell_type": "code",
   "execution_count": null,
   "metadata": {},
   "outputs": [],
   "source": [
    "import matplotlib.pyplot as plt; plt.scatter(df['columna1'], df['columna2']); plt.title('Correlación entre columna1 y columna2'); plt.xlabel('Columna1'); plt.ylabel('Columna2') : crea un gráfico de dispersión que muestra la relación entre dos columnas específicas del dataframe df."
   ]
  },
  {
   "cell_type": "markdown",
   "metadata": {},
   "source": [
    "Análisis de correlaciones multivariado"
   ]
  },
  {
   "cell_type": "code",
   "execution_count": null,
   "metadata": {},
   "outputs": [],
   "source": [
    "df.corr() : calcula la matriz de correlación entre todas las columnas numéricas del dataframe df."
   ]
  },
  {
   "cell_type": "code",
   "execution_count": null,
   "metadata": {},
   "outputs": [],
   "source": [
    "df.corr().abs() : calcula la matriz de correlación absoluta entre todas las columnas numéricas del dataframe df."
   ]
  },
  {
   "cell_type": "code",
   "execution_count": null,
   "metadata": {},
   "outputs": [],
   "source": [
    "sns.heatmap(df.corr(), annot=True, cmap='coolwarm', square=True) : crea un mapa de calor que muestra la correlación entre todas las columnas numéricas del dataframe df utilizando la biblioteca seaborn."
   ]
  },
  {
   "cell_type": "code",
   "execution_count": null,
   "metadata": {},
   "outputs": [],
   "source": [
    "import matplotlib.pyplot as plt; plt.scatter(df['columna1'], df['columna2']); plt.title('Correlación entre columna1 y columna2'); plt.xlabel('Columna1'); plt.ylabel('Columna2') : crea un gráfico de dispersión que muestra la relación entre dos columnas específicas del dataframe df."
   ]
  },
  {
   "cell_type": "code",
   "execution_count": null,
   "metadata": {},
   "outputs": [],
   "source": [
    "import pandas as pd; pd.scatter_matrix(df, alpha=0.7, figsize=(14,14), diagonal='kde') : crea una matriz de dispersión que muestra la relación entre todas las columnas numéricas del dataframe df."
   ]
  }
 ],
 "metadata": {
  "language_info": {
   "name": "python"
  }
 },
 "nbformat": 4,
 "nbformat_minor": 2
}
