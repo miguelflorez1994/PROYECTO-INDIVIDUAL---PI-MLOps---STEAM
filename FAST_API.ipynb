{
 "cells": [
  {
   "cell_type": "code",
   "execution_count": 5,
   "metadata": {},
   "outputs": [],
   "source": [
    "import pyarrow as pa\n",
    "import pyarrow.parquet as pq\n",
    "import pandas as pd\n",
    "import numpy as np\n",
    "from sklearn.preprocessing import MultiLabelBinarizer\n",
    "from sklearn.preprocessing import StandardScaler"
   ]
  },
  {
   "cell_type": "markdown",
   "metadata": {},
   "source": [
    "# Elaboracion de archivos para la API"
   ]
  },
  {
   "cell_type": "markdown",
   "metadata": {},
   "source": [
    "Se crearon los DataFrames con la informacion justa para la implementacion de cada funcion requerida. Para cada funcion se determinaron variables criticas (ej. el parametro de entrada) que de ser nulas el registro correspondiente no tendria la iformacion minima para ser incluido en el analisis. De acuerdo con esto, se decidio eliminar estos registros."
   ]
  },
  {
   "cell_type": "markdown",
   "metadata": {},
   "source": [
    "## Cargar tablas"
   ]
  },
  {
   "cell_type": "code",
   "execution_count": null,
   "metadata": {},
   "outputs": [],
   "source": [
    "games=pd.read_parquet(\"Archivos EDA/games_eda.parquet\")"
   ]
  },
  {
   "cell_type": "code",
   "execution_count": null,
   "metadata": {},
   "outputs": [],
   "source": [
    "items=pd.read_parquet(\"Archivos EDA/items_eda.parquet\")"
   ]
  },
  {
   "cell_type": "code",
   "execution_count": null,
   "metadata": {},
   "outputs": [],
   "source": [
    "reviews=pd.read_parquet(\"Archivos EDA/reviews_eda.parquet\")"
   ]
  },
  {
   "cell_type": "code",
   "execution_count": null,
   "metadata": {},
   "outputs": [],
   "source": [
    "games_def"
   ]
  },
  {
   "cell_type": "code",
   "execution_count": null,
   "metadata": {},
   "outputs": [],
   "source": [
    "items"
   ]
  },
  {
   "cell_type": "code",
   "execution_count": null,
   "metadata": {},
   "outputs": [],
   "source": [
    "reviews"
   ]
  },
  {
   "cell_type": "markdown",
   "metadata": {},
   "source": [
    "## Creacion de archivos"
   ]
  },
  {
   "cell_type": "markdown",
   "metadata": {},
   "source": [
    "### def developer( desarrollador : str )"
   ]
  },
  {
   "cell_type": "markdown",
   "metadata": {},
   "source": [
    "Cantidad de items y porcentaje de contenido Free por año según empresa desarrolladora. <br><br>\n",
    "Ejemplo de retorno: <br>\n",
    "| Año   | Cantidad de items | Contenido Free |\n",
    "| ----- | ----------------- | -------------- |\n",
    "| 2023  | 50                | 27%            |\n",
    "| 2022  | 45                | 25%            |\n",
    "<br>\n",
    "\n",
    "Columnas necesarias:\n",
    "- developer (games)\n",
    "- release_year (games)\n",
    "- price (games)\n",
    "- item_id (games)"
   ]
  },
  {
   "cell_type": "code",
   "execution_count": null,
   "metadata": {},
   "outputs": [],
   "source": [
    "def_developer = games[['developer','item_id','release_year','price']]\n",
    "def_developer.drop(def_developer[def_developer['developer'].isnull()].index,inplace=True)\n",
    "def_developer"
   ]
  },
  {
   "cell_type": "code",
   "execution_count": null,
   "metadata": {},
   "outputs": [],
   "source": [
    "def_developer.isnull().sum()"
   ]
  },
  {
   "cell_type": "markdown",
   "metadata": {},
   "source": [
    "### def userdata( User_id : str )\n"
   ]
  },
  {
   "cell_type": "markdown",
   "metadata": {},
   "source": [
    "Debe devolver cantidad de dinero gastado por el usuario, el porcentaje de recomendación en base a reviews.recommend y cantidad de items. <br><br>\n",
    "Ejemplo de retorno: <br>\n",
    "{\"Usuario X\" : us213ndjss09sdf, \"Dinero gastado\": 200 USD, \"% de recomendación\": 20%, \"cantidad de items\": 5}\n",
    "<br><br>\n",
    "Columnas necesarias:\n",
    "- user_id (reviews)\n",
    "- recommend (reviews)\n",
    "- item_id (reviews, games)\n",
    "- price (games)"
   ]
  },
  {
   "cell_type": "code",
   "execution_count": null,
   "metadata": {},
   "outputs": [],
   "source": [
    "def_userdata = reviews[['user_id','item_id','recommend']]\n",
    "def_userdata = def_userdata.merge(games[['item_id','price']],on='item_id')\n",
    "def_userdata"
   ]
  },
  {
   "cell_type": "code",
   "execution_count": null,
   "metadata": {},
   "outputs": [],
   "source": [
    "def_userdata.isnull().sum()"
   ]
  },
  {
   "cell_type": "markdown",
   "metadata": {},
   "source": [
    "### def UserForGenre( genero : str )"
   ]
  },
  {
   "cell_type": "markdown",
   "metadata": {},
   "source": [
    "Debe devolver el usuario que acumula más horas jugadas para el género dado y una lista de la acumulación de horas jugadas por año de lanzamiento. <br><br>\n",
    "Ejemplo de retorno:<br>\n",
    "{\"Usuario con más horas jugadas para Género X\" : us213ndjss09sdf, \"Horas jugadas\":[{Año: 2013, Horas: 203}, {Año: 2012, Horas: 100}, {Año: 2011, Horas: 23}]}\n",
    "<br><br>\n",
    "Columnas necesarias:\n",
    "- user_id (items)\n",
    "- playtime (items)\n",
    "- item_id (items, games)\n",
    "- genres (games)\n",
    "- release_year (games)"
   ]
  },
  {
   "cell_type": "code",
   "execution_count": null,
   "metadata": {},
   "outputs": [],
   "source": [
    "def_userforgenre = items[['user_id','playtime','item_id']]\n",
    "def_userforgenre = def_userforgenre.merge(games[['item_id','genres','release_year']],on='item_id')\n",
    "def_userforgenre.drop(def_userforgenre[def_userforgenre['genres'].isnull()].index,inplace=True)\n",
    "def_userforgenre"
   ]
  },
  {
   "cell_type": "code",
   "execution_count": null,
   "metadata": {},
   "outputs": [],
   "source": [
    "def_userforgenre.isnull().sum()"
   ]
  },
  {
   "cell_type": "markdown",
   "metadata": {},
   "source": [
    "### def best_developer_year( año : int )"
   ]
  },
  {
   "cell_type": "markdown",
   "metadata": {},
   "source": [
    "Devuelve el top 3 de desarrolladores con juegos MÁS recomendados por usuarios para el año dado. (reviews.recommend = True y comentarios positivos) <br><br>\n",
    "Ejemplo de retorno: <br>\n",
    "[{\"Puesto 1\" : X}, {\"Puesto 2\" : Y},{\"Puesto 3\" : Z}]\n",
    "<br><br>\n",
    "Columnas necesarias:\n",
    "- developer (games)\n",
    "- release_year (games)\n",
    "- recommend (reviews)\n",
    "- sentiment_analysis (reviews)\n",
    "- item_id (reviews, games)"
   ]
  },
  {
   "cell_type": "code",
   "execution_count": null,
   "metadata": {},
   "outputs": [],
   "source": [
    "def_best_dev = games[['developer','item_id','release_year']]\n",
    "def_best_dev = def_best_dev.merge(reviews[['item_id','recommend','sentiment_analysis']],on='item_id')\n",
    "def_best_dev.drop(def_best_dev[(def_best_dev['developer'].isnull())|(def_best_dev['release_year'].isnull())].index,inplace=True)\n",
    "def_best_dev"
   ]
  },
  {
   "cell_type": "code",
   "execution_count": null,
   "metadata": {},
   "outputs": [],
   "source": [
    "def_best_dev.isnull().sum()"
   ]
  },
  {
   "cell_type": "markdown",
   "metadata": {},
   "source": [
    "### def developer_reviews_analysis( desarrolladora : str )"
   ]
  },
  {
   "cell_type": "markdown",
   "metadata": {},
   "source": [
    "Según el desarrollador, se devuelve un diccionario con el nombre del desarrollador como llave y una lista con la cantidad total de registros de reseñas de usuarios que se encuentren categorizados con un análisis de sentimiento como valor positivo o negativo. <br><br>\n",
    "Ejemplo de retorno: <br>\n",
    "{'Valve' : [Negative = 182, Positive = 278]}\n",
    "<br><br>\n",
    "Columnas necesarias:\n",
    "- developer (games)\n",
    "- item_id (games, reviews)\n",
    "- sentiment_analysis (reviews)"
   ]
  },
  {
   "cell_type": "code",
   "execution_count": null,
   "metadata": {},
   "outputs": [],
   "source": [
    "def_dev_rev = games[['developer','item_id']]\n",
    "def_dev_rev = def_dev_rev.merge(reviews[['item_id','sentiment_analysis']],on='item_id')\n",
    "def_dev_rev.drop(def_dev_rev[def_dev_rev['developer'].isnull()].index,inplace=True)\n",
    "def_dev_rev"
   ]
  },
  {
   "cell_type": "code",
   "execution_count": null,
   "metadata": {},
   "outputs": [],
   "source": [
    "def_dev_rev.isnull().sum()"
   ]
  },
  {
   "cell_type": "markdown",
   "metadata": {},
   "source": [
    "### def recomendacion_juego (id_producto : int)"
   ]
  },
  {
   "cell_type": "code",
   "execution_count": null,
   "metadata": {},
   "outputs": [],
   "source": [
    "def_recom = games.copy().reset_index()\n",
    "def_recom['features'] = def_recom.apply(lambda row: \n",
    "                              (list(row['genres']) if row['genres'] is not None else [])+\n",
    "                              (list(row['tags']) if row['tags'] is not None else []) + \n",
    "                              (list(row['specs']) if row['specs'] is not None else []), \n",
    "                              axis=1)\n",
    "def_recom = def_recom[['item_id','item_name','price','early_access','release_year','features']]\n",
    "scaler = StandardScaler()\n",
    "def_recom['price'] = scaler.fit_transform(def_recom[['price']])\n",
    "def_recom['release_year'] = scaler.fit_transform(def_recom[['release_year']])\n",
    "\n",
    "mlb = MultiLabelBinarizer()\n",
    "feat_dummies = pd.DataFrame(mlb.fit_transform(def_recom['features']), columns=mlb.classes_, index=def_recom.index)\n",
    "def_recom = pd.concat([def_recom, feat_dummies], axis=1)\n",
    "\n",
    "def_recom.drop(columns='features',inplace=True)\n",
    "def_recom.fillna(0,inplace=True)"
   ]
  },
  {
   "cell_type": "markdown",
   "metadata": {},
   "source": [
    "## Exportar archivos finales"
   ]
  },
  {
   "cell_type": "code",
   "execution_count": null,
   "metadata": {},
   "outputs": [],
   "source": [
    "pq.write_table(pa.Table.from_pandas(def_developer),'Archivos API/def_developer.parquet')\n",
    "pq.write_table(pa.Table.from_pandas(def_userdata),'Archivos API/def_userdata.parquet')\n",
    "pq.write_table(pa.Table.from_pandas(def_userforgenre),'Archivos API/def_userforgenre.parquet')\n",
    "pq.write_table(pa.Table.from_pandas(def_best_dev),'Archivos API/def_best_dev.parquet')\n",
    "pq.write_table(pa.Table.from_pandas(def_dev_rev),'Archivos API/def_dev_rev.parquet')\n",
    "pq.write_table(pa.Table.from_pandas(def_recom),'Archivos API/def_recom.parquet')"
   ]
  }
 ],
 "metadata": {
  "kernelspec": {
   "display_name": "Python 3",
   "language": "python",
   "name": "python3"
  },
  "language_info": {
   "codemirror_mode": {
    "name": "ipython",
    "version": 3
   },
   "file_extension": ".py",
   "mimetype": "text/x-python",
   "name": "python",
   "nbconvert_exporter": "python",
   "pygments_lexer": "ipython3",
   "version": "3.12.4"
  }
 },
 "nbformat": 4,
 "nbformat_minor": 2
}
