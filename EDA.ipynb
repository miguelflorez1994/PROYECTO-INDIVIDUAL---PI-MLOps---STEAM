{
 "cells": [
  {
   "cell_type": "markdown",
   "metadata": {},
   "source": [
    "\n",
    "Llevaremos a cabo el EDA en cada conjunto de datos que ya transformamos. El objetivo es tener una vision de como se comportan los datos para luego poder hacer un modelo de recomendacion, el cual se ajuste lo mas posible a lo que buscamos.\n",
    "Este enfoque sistematico garantiza una comprension detallada de los conjuntos de datos, permitiendo asi una correcta seleccion de los datos mas relevantes para nuestro modelo. "
   ]
  },
  {
   "cell_type": "code",
   "execution_count": null,
   "metadata": {},
   "outputs": [],
   "source": [
    "import pandas as pd \n",
    "import matplotlib.pyplot as plt \n",
    "import seaborn as sns \n",
    "import pyarrow as pa \n",
    "import pyarrow.parquet as pq \n",
    "import warnings\n",
    "warnings.filterwarnings('ignore')"
   ]
  },
  {
   "cell_type": "code",
   "execution_count": null,
   "metadata": {},
   "outputs": [],
   "source": [
    "df_steam_games = pd.read_parquet('dataset_limpio/steam_games.parquet')\n",
    "df_steam_games.head()"
   ]
  },
  {
   "cell_type": "code",
   "execution_count": null,
   "metadata": {},
   "outputs": [],
   "source": [
    "df_steam_games.info() #obtenemos informacion de las columnas y sus tipos de datos."
   ]
  },
  {
   "cell_type": "code",
   "execution_count": null,
   "metadata": {},
   "outputs": [],
   "source": [
    "#vemos la cantidad de nulos por columna\n",
    "df_steam_games.isnull().sum()"
   ]
  },
  {
   "cell_type": "markdown",
   "metadata": {},
   "source": [
    "### Variables categóricas"
   ]
  },
  {
   "cell_type": "markdown",
   "metadata": {},
   "source": [
    "* **app_name**: nombre de la aplicación\n",
    "* **item_id**: identificador único del juego\n",
    "* **developer**: desarrollador del juego\n",
    "* **release_year**: año de lanzamiento del juego\n",
    "* **genres** : género del juego\n",
    "\n",
    "\n"
   ]
  },
  {
   "cell_type": "markdown",
   "metadata": {},
   "source": [
    "id"
   ]
  },
  {
   "cell_type": "code",
   "execution_count": null,
   "metadata": {},
   "outputs": [],
   "source": [
    "games_unique = len(df_steam_games['item_id'].unique()) #con esto obtenemos la cantidad de juegos unicos\n",
    "games_unique"
   ]
  },
  {
   "cell_type": "markdown",
   "metadata": {},
   "source": [
    "developer"
   ]
  },
  {
   "cell_type": "code",
   "execution_count": null,
   "metadata": {},
   "outputs": [],
   "source": [
    "developer_counts = df_steam_games['developer'].value_counts() #obtenemos la cantidad de jeugos por desarrollador\n",
    "developer_counts"
   ]
  },
  {
   "cell_type": "markdown",
   "metadata": {},
   "source": [
    "Procedemos a hacer un grafico de barras para el top 10 de desarrolladores "
   ]
  },
  {
   "cell_type": "code",
   "execution_count": null,
   "metadata": {},
   "outputs": [],
   "source": [
    "sns.set(style=\"whitegrid\")\n",
    "\n",
    "plt.figure(figsize=(12, 6))  # Tamaño de la figura\n",
    "\n",
    "developer_data = developer_counts[:10]\n",
    "sns.barplot(x=developer_data.values, y=developer_data.index, palette=\"Blues_r\")\n",
    "\n",
    "plt.xlabel('Cantidad de Juegos')\n",
    "plt.ylabel('Desarrollador')\n",
    "plt.title('Top 10 Desarrolladores Steam')\n",
    "\n",
    "# Añadir los valores en las barras\n",
    "for i, v in enumerate(developer_data.values):\n",
    "    plt.text(v + 0.1, i, str(v), color='black', va='center', fontsize=10)\n",
    "\n",
    "plt.show()"
   ]
  },
  {
   "cell_type": "markdown",
   "metadata": {},
   "source": [
    "**Observación**\n",
    "- Como podemos ver, 'Ubisoft - San Francisco' es el mayor desarrollador de juegos con 1259."
   ]
  },
  {
   "cell_type": "markdown",
   "metadata": {},
   "source": [
    "### `release_year`"
   ]
  },
  {
   "cell_type": "code",
   "execution_count": null,
   "metadata": {},
   "outputs": [],
   "source": [
    "#En primera instancia, veremos cuantos juegos hay por su año de lanzamiento\n",
    "games_per_year = df_steam_games['release_year'].value_counts()\n",
    "games_per_year"
   ]
  },
  {
   "cell_type": "markdown",
   "metadata": {},
   "source": [
    "Procedemos a crear un grafico de barras para ver la cantidad de juegos por año de lanzamiento"
   ]
  },
  {
   "cell_type": "code",
   "execution_count": null,
   "metadata": {},
   "outputs": [],
   "source": [
    "#creamos un grafico de barras para ver la info \n",
    "sns.set(style=\"whitegrid\")\n",
    "\n",
    "plt.figure(figsize=(13, 8))\n",
    "\n",
    "ax = sns.barplot(x=games_per_year.index, y=games_per_year.values, palette=\"Blues\")\n",
    "\n",
    "for p in ax.patches:\n",
    "    ax.annotate(f'{int(p.get_height())}', (p.get_x() + p.get_width() / 2., p.get_height()),\n",
    "                ha='center', va='center', xytext=(0, 10), textcoords='offset points', fontsize=10)\n",
    "\n",
    "ax.set(xlabel='Año de lanzamiento', ylabel='Cantidad de juegos',\n",
    "       title='Cantidad de juegos por su año de lanzamiento')\n",
    "ax.set_xticklabels(ax.get_xticklabels(), rotation=45, ha='right')\n",
    "\n",
    "plt.grid(True, axis='y', linestyle='--', alpha=0.7)\n",
    "\n",
    "plt.tight_layout()\n",
    "plt.show()"
   ]
  },
  {
   "cell_type": "markdown",
   "metadata": {},
   "source": [
    "**Observación**\n",
    "- como podemos observar en el grafico anterior, se puede apreciar que a partir del año 2003 en adelante, el lanzamiento de juegos empieza a crecer de forma significativa, esto se debe en parte a que steam se introduce como plataforma en ese año, aunque no fue hasta el año 2007 que amplio su modelo de negocio para agregar softwares de terceros en su plataforma. Luego de este suceso podemos apreciar el aumento exponencial de titulos dentro de la plataforma, alcanzando asi su maximo en el año 2017 con un total de 9200 juegos.\n"
   ]
  },
  {
   "cell_type": "markdown",
   "metadata": {},
   "source": [
    "### `genres`"
   ]
  },
  {
   "cell_type": "code",
   "execution_count": null,
   "metadata": {},
   "outputs": [],
   "source": [
    "genres_quantity = df_steam_games['genres'].value_counts() #contamos la cantidad de juegos por genero\n",
    "genres_quantity\n"
   ]
  },
  {
   "cell_type": "markdown",
   "metadata": {},
   "source": [
    "Procedemos a hacer un grafico countplot para ver mejor la cantidad de juegos por genero"
   ]
  },
  {
   "cell_type": "code",
   "execution_count": null,
   "metadata": {},
   "outputs": [],
   "source": [
    "sns.set(style=\"whitegrid\")\n",
    "\n",
    "plt.figure(figsize=(10, 8))\n",
    "ax = sns.countplot(data=df_steam_games, y='genres', orient='h', palette='Blues_r')\n",
    "\n",
    "ax.set_title('Distribución de Juegos por Género en Steam', fontsize=16)\n",
    "ax.set_xlabel('Cantidad de Juegos', fontsize=14)\n",
    "ax.set_ylabel('Género', fontsize=14)\n",
    "\n",
    "for p in ax.patches:\n",
    "    ax.annotate(f'{int(p.get_width())}', (p.get_width() + 0.1, p.get_y() + 0.5), fontsize=10)\n",
    "\n",
    "plt.show()"
   ]
  },
  {
   "cell_type": "markdown",
   "metadata": {},
   "source": [
    "**Observación**\n",
    "\n",
    "Los generos con mayor cantidad de juegos son:\n",
    "* **Action** con 11246\n",
    "* **Casual** con 4338\n",
    "* **Adventure** con 4312\n",
    "* **Indie** con 3299"
   ]
  },
  {
   "cell_type": "markdown",
   "metadata": {},
   "source": [
    "EDA del dataframe 'user_reviews'"
   ]
  },
  {
   "cell_type": "code",
   "execution_count": null,
   "metadata": {},
   "outputs": [],
   "source": [
    "df_user_reviews = pd.read_parquet('dataset_limpio/user_reviews.parquet')\n",
    "df_user_reviews.head()"
   ]
  },
  {
   "cell_type": "code",
   "execution_count": null,
   "metadata": {},
   "outputs": [],
   "source": [
    "df_user_reviews.info() #vemos la informacion de las columnas del dataframe"
   ]
  },
  {
   "cell_type": "code",
   "execution_count": null,
   "metadata": {},
   "outputs": [],
   "source": [
    "df_user_reviews.isnull().sum() # vemos la cantidad de nulos "
   ]
  },
  {
   "cell_type": "markdown",
   "metadata": {},
   "source": [
    "### Variables categóricas"
   ]
  },
  {
   "cell_type": "markdown",
   "metadata": {},
   "source": [
    "* **user_id** : id del usuario \n",
    "* **recommend** : valor booleano que indica si se ha realizado review\n",
    "* **sentiment_analysis** : clasificación de las reviews en:\n",
    "    * positivo = 2 \n",
    "    * negativo = 0 \n",
    "    * neutral = 1"
   ]
  },
  {
   "cell_type": "markdown",
   "metadata": {},
   "source": [
    "### `user_id`"
   ]
  },
  {
   "cell_type": "code",
   "execution_count": null,
   "metadata": {},
   "outputs": [],
   "source": [
    "#Vemos la cantidad de usuarios de juegos de steam en la plataforma\n",
    "user_quantity = len(df_user_reviews['user_id'].unique())\n",
    "user_quantity"
   ]
  },
  {
   "cell_type": "markdown",
   "metadata": {},
   "source": [
    "**Observación**\n",
    "- Contamos con 25467 usuarios únicos en el dataframe"
   ]
  },
  {
   "cell_type": "markdown",
   "metadata": {},
   "source": [
    "### `recommend`"
   ]
  },
  {
   "cell_type": "code",
   "execution_count": null,
   "metadata": {},
   "outputs": [],
   "source": [
    "#vemos la cantidad de recomendaciones hechas\n",
    "recommend_quantity = df_user_reviews['recommend'].value_counts()\n",
    "recommend_quantity"
   ]
  },
  {
   "cell_type": "markdown",
   "metadata": {},
   "source": [
    "**Observación**\n",
    "- Contabilizamos con 52350 recomendaciones de parte de los usuarios."
   ]
  },
  {
   "cell_type": "markdown",
   "metadata": {},
   "source": [
    "### `sentiment_analysis`"
   ]
  },
  {
   "cell_type": "code",
   "execution_count": null,
   "metadata": {},
   "outputs": [],
   "source": [
    "#vemos el conteo del analisis de sentimiento para cada caso\n",
    "sentiment_analysis_quantity = df_user_reviews['sentiment_analysis'].value_counts()\n",
    "sentiment_analysis_quantity"
   ]
  },
  {
   "cell_type": "markdown",
   "metadata": {},
   "source": [
    "**Observación**\n",
    "- Las reviews con sentimientos positivos fueron 32181\n",
    "- Las reviews con sentimientos neutrales fueron 22000\n",
    "- Las reviews con sentimientos negativos fueron 4980"
   ]
  },
  {
   "cell_type": "markdown",
   "metadata": {},
   "source": [
    "### Variables numéricas"
   ]
  },
  {
   "cell_type": "markdown",
   "metadata": {},
   "source": [
    "* **posted_year** : fecha en que se realiza la review"
   ]
  },
  {
   "cell_type": "code",
   "execution_count": null,
   "metadata": {},
   "outputs": [],
   "source": [
    "date = df_user_reviews['posted_year'].describe()\n",
    "date"
   ]
  },
  {
   "cell_type": "markdown",
   "metadata": {},
   "source": [
    "Procedemos a realizar un countplot de las reviews por fecha"
   ]
  },
  {
   "cell_type": "code",
   "execution_count": null,
   "metadata": {},
   "outputs": [],
   "source": [
    "sns.set(style=\"whitegrid\")\n",
    "\n",
    "plt.figure(figsize=(13, 5))\n",
    "\n",
    "ax = sns.countplot(data=df_user_reviews, x=df_user_reviews[\"posted_year\"], palette=\"Blues\") \n",
    "\n",
    "ax.set_title('Distribución de reviews por Año', fontsize=16)\n",
    "ax.set_xlabel('Año', fontsize=14)\n",
    "ax.set_ylabel('Cantidad de reviews', fontsize=14)\n",
    "\n",
    "ax.set_xticklabels(ax.get_xticklabels(), rotation=45, ha='right')\n",
    "\n",
    "for p in ax.patches:\n",
    "    ax.annotate(f'{int(p.get_height())}', (p.get_x() + p.get_width() / 2., p.get_height()),\n",
    "                ha='center', va='baseline', fontsize=10, color='black')\n",
    "\n",
    "sns.despine()\n",
    "plt.show()"
   ]
  },
  {
   "cell_type": "markdown",
   "metadata": {},
   "source": [
    "**Observación**\n",
    "- La cantidad total de posteos es de 59161.\n",
    "- El año con más posteos fue 2014 con 23892 \n",
    "- El año con menos posteos fue 2010 con 473"
   ]
  },
  {
   "cell_type": "markdown",
   "metadata": {},
   "source": [
    "EDA de users_items.parquet"
   ]
  },
  {
   "cell_type": "code",
   "execution_count": null,
   "metadata": {},
   "outputs": [],
   "source": [
    "df_users_items = pd.read_parquet('dataset_limpio/items_normalized.parquet')\n",
    "df_users_items.head()"
   ]
  },
  {
   "cell_type": "code",
   "execution_count": null,
   "metadata": {},
   "outputs": [],
   "source": [
    "df_users_items.info()"
   ]
  },
  {
   "cell_type": "code",
   "execution_count": null,
   "metadata": {},
   "outputs": [],
   "source": [
    "#vemos los nulos del dataframe\n",
    "df_users_items.isnull().sum()"
   ]
  },
  {
   "cell_type": "markdown",
   "metadata": {},
   "source": [
    "### Variables categóricas"
   ]
  },
  {
   "cell_type": "markdown",
   "metadata": {},
   "source": [
    "* **item_name** : titulo del juego Steam"
   ]
  },
  {
   "cell_type": "markdown",
   "metadata": {},
   "source": [
    "### `item_name`"
   ]
  },
  {
   "cell_type": "code",
   "execution_count": null,
   "metadata": {},
   "outputs": [],
   "source": [
    "#vemos la cantidad de juegos en el dataframe\n",
    "games_quantity = len(df_users_items['item_name'].unique())\n",
    "games_quantity"
   ]
  },
  {
   "cell_type": "code",
   "execution_count": null,
   "metadata": {},
   "outputs": [],
   "source": [
    "#vemos la cantidad de juegos por nombre\n",
    "games = df_users_items['item_name'].value_counts()\n",
    "games"
   ]
  },
  {
   "cell_type": "markdown",
   "metadata": {},
   "source": [
    "**Observación**\n",
    "- Steam cuenta con la cantidad de 10024 juegos únicos (software) en su catálogo.\n",
    "- El software mas consumido es \"Counter-Strike: Global Offensive\" con 42842 registros"
   ]
  },
  {
   "cell_type": "markdown",
   "metadata": {},
   "source": [
    "### Variables numéricas"
   ]
  },
  {
   "cell_type": "markdown",
   "metadata": {},
   "source": [
    "* **items_count** : cantidad de juegos Steam que consume un usuario\n",
    "* **playtime_hours** : cantidad de horas que juega un usuario"
   ]
  },
  {
   "cell_type": "markdown",
   "metadata": {},
   "source": [
    "### `items_count`"
   ]
  },
  {
   "cell_type": "code",
   "execution_count": null,
   "metadata": {},
   "outputs": [],
   "source": [
    "items_count = df_users_items.groupby('user_id')['items_count'].unique().explode() # obtenemos la cantidad de juegos por usuario\n",
    "items_count= pd.DataFrame(items_count) # convertimos a dataframe\n",
    "items_count_user = items_count.sort_values('items_count', ascending=False) # ordenamos de mayor a menor\n",
    "items_count_user"
   ]
  },
  {
   "cell_type": "markdown",
   "metadata": {},
   "source": [
    "Procedemos a hacer dos graficos:\n",
    "- Grafico de distribución de cantidad de items por usuario \n",
    "- Grafico de caja de cantidad de items por usuario"
   ]
  },
  {
   "cell_type": "code",
   "execution_count": null,
   "metadata": {},
   "outputs": [],
   "source": [
    "sns.set(style=\"whitegrid\", palette=\"plasma\")\n",
    "\n",
    "plt.figure(figsize=(13, 6))\n",
    "sns.stripplot(data=items_count_user, x='items_count', color=\"orange\", jitter=0.2, alpha=0.7)\n",
    "plt.xlabel('Cantidad de Items')\n",
    "plt.ylabel('Frecuencia')\n",
    "plt.title('Distribución de Cantidad de Items por Usuario')\n",
    "plt.show()"
   ]
  },
  {
   "cell_type": "code",
   "execution_count": null,
   "metadata": {},
   "outputs": [],
   "source": [
    "sns.set(style=\"whitegrid\", palette=\"plasma\")\n",
    "\n",
    "plt.figure(figsize=(13, 6))\n",
    "sns.boxplot(data=items_count_user, x='items_count', palette=\"plasma\")\n",
    "plt.xlabel('Cantidad de Items')\n",
    "plt.ylabel('Frecuencia')\n",
    "plt.title('Boxplot de Cantidad de Items por Usuario')\n",
    "plt.show()"
   ]
  },
  {
   "cell_type": "code",
   "execution_count": null,
   "metadata": {},
   "outputs": [],
   "source": [
    "items_count_user.describe()"
   ]
  },
  {
   "cell_type": "code",
   "execution_count": null,
   "metadata": {},
   "outputs": [],
   "source": [
    "items_count_user['items_count'].max()"
   ]
  },
  {
   "cell_type": "code",
   "execution_count": null,
   "metadata": {},
   "outputs": [],
   "source": [
    "items_count_user.sort_values(by='items_count', ascending=False).head(5)"
   ]
  },
  {
   "cell_type": "markdown",
   "metadata": {},
   "source": [
    "**Observación**\n",
    "- La cantidad total artículos consumidos es de 68403. \n",
    "- El `user_id` con más cantidad de artículos consumidos es `phrostb` con 7762"
   ]
  },
  {
   "cell_type": "markdown",
   "metadata": {},
   "source": [
    "### `playtime_hours`"
   ]
  },
  {
   "cell_type": "code",
   "execution_count": null,
   "metadata": {},
   "outputs": [],
   "source": [
    "time_count = df_users_items.groupby('user_id')['playtime_hours'].unique().explode()  # Obtenemos el tiempo de juego por usuario\n",
    "time_count = pd.DataFrame(time_count)  # Convertimos a DataFrame\n",
    "time_count['playtime_hours'] = time_count['playtime_hours']\n",
    "time_count_user = time_count.sort_values('playtime_hours', ascending=False)  # Ordenamos de mayor a menor\n",
    "time_count_user"
   ]
  },
  {
   "cell_type": "markdown",
   "metadata": {},
   "source": [
    "Procedemos a hacer dos graficos:\n",
    "- Grafico de distribución de tiempo de juego por usuario \n",
    "- Grafico de caja de tiempo de juego por usuario"
   ]
  },
  {
   "cell_type": "code",
   "execution_count": null,
   "metadata": {},
   "outputs": [],
   "source": [
    "sns.set(style=\"whitegrid\", palette=\"plasma\")\n",
    "\n",
    "plt.figure(figsize=(13, 6))\n",
    "sns.stripplot(data=time_count_user, x='playtime_hours', color=\"orange\", jitter=0.2, alpha=0.7)\n",
    "plt.xlabel('Tiempo de Juego en horas')\n",
    "plt.ylabel('Frecuencia')\n",
    "plt.title('Distribución de Tiempo de Juego por Usuario')\n",
    "plt.show()"
   ]
  },
  {
   "cell_type": "code",
   "execution_count": null,
   "metadata": {},
   "outputs": [],
   "source": [
    "sns.set(style=\"whitegrid\", palette=\"plasma\")\n",
    "\n",
    "plt.figure(figsize=(13, 6))\n",
    "sns.boxplot(data=time_count_user, x='playtime_hours', palette=\"plasma\")\n",
    "plt.xlabel('Tiempo de Juego en horas')\n",
    "plt.ylabel('Frecuencia')\n",
    "plt.title('Boxplot de Tiempo de Juego por Usuario')\n",
    "plt.show()"
   ]
  },
  {
   "cell_type": "markdown",
   "metadata": {},
   "source": [
    "**Observación**\n",
    "- El `user_id` con más cantidad de tiempo consumido en juegos Steam es `wolop` con 10713 horas"
   ]
  },
  {
   "cell_type": "markdown",
   "metadata": {},
   "source": [
    "### Procedemos a crear los datasets finales para las funciones de los endpoints y el modelo de recomendacion\n",
    "\n",
    "En cuestion a las dos primeras funciones ('PlayTimeGenre' y 'UserForGenre') emplearemos los archivos 'steam_games.parquet' y 'users_items.parquet'. En un principio pensamos que era conveniente juntar ambos datasets utilizando la columna 'item_id'. Sin embargo, dado el tamaño de 'users_items.parquet', se opto por trabajar con ambos archivos de manera independiente\n",
    "\n",
    "En cuanto a las 3 funciones restantes ('UsersRecommend', 'UsersWorstDeveloper' y 'sentiment_analysis') emplearemos los datasets 'steam_games.parquet' y 'user_reviews.parquet'.\n",
    "El metodo empleado sera un merge entre ambos archivos y para evitar posibles errores, filtraremos entre los años 2010 y 2015, ya que ambos archivos comparten dicha informacion."
   ]
  },
  {
   "cell_type": "code",
   "execution_count": null,
   "metadata": {},
   "outputs": [],
   "source": [
    "# filtramos los juegos lanzados entre 2010 y 2015\n",
    "df_steam_games = df_steam_games[df_steam_games['release_year'].between(2010, 2015, inclusive='both')]\n",
    "df_steam_games.head()"
   ]
  },
  {
   "cell_type": "code",
   "execution_count": null,
   "metadata": {},
   "outputs": [],
   "source": [
    "# filtramos los reviews realizados entre 2010 y 2015\n",
    "df_user_reviews = df_user_reviews[df_user_reviews['posted_year'].between(2010, 2015, inclusive='both')]\n",
    "df_user_reviews.head()"
   ]
  },
  {
   "cell_type": "code",
   "execution_count": null,
   "metadata": {},
   "outputs": [],
   "source": [
    "#unimos 'df_steam_games' con 'df_user_reviews'\n",
    "df_steamgames_and_reviews = pd.merge(df_steam_games, df_user_reviews, left_on='item_id', right_on='item_id')"
   ]
  },
  {
   "cell_type": "code",
   "execution_count": null,
   "metadata": {},
   "outputs": [],
   "source": [
    "df_steamgames_and_reviews.head()"
   ]
  },
  {
   "cell_type": "code",
   "execution_count": null,
   "metadata": {},
   "outputs": [],
   "source": [
    "#vemos como quedo conformado el df fusionado\n",
    "df_steamgames_and_reviews.info()"
   ]
  },
  {
   "cell_type": "markdown",
   "metadata": {},
   "source": [
    "Pasamos el df a formato CSV"
   ]
  },
  {
   "cell_type": "code",
   "execution_count": null,
   "metadata": {},
   "outputs": [],
   "source": [
    "df_steamgames_and_reviews.to_csv('dataset_funciones/steamgames_and_reviews.csv', index=False, encoding='utf-8')"
   ]
  },
  {
   "cell_type": "code",
   "execution_count": null,
   "metadata": {},
   "outputs": [],
   "source": [
    "#Leemos el archivo csv\n",
    "df_games_and_reviews = pd.read_csv(\"dataset_funciones/steamgames_and_reviews.csv\")\n",
    "\n",
    "tabla = pa.Table.from_pandas(df_games_and_reviews) # convertimos el dataframe en una tabla\n",
    "pq.write_table(tabla,\"dataset_funciones/steamgames_and_reviews.parquet\") # guardamos la tabla en un archivo parquet"
   ]
  },
  {
   "cell_type": "markdown",
   "metadata": {},
   "source": [
    "### Dataset para el modelo de Recomendación"
   ]
  },
  {
   "cell_type": "code",
   "execution_count": null,
   "metadata": {},
   "outputs": [],
   "source": [
    "modelo_item = pd.read_parquet('dataset_limpio/steam_games.parquet')\n",
    "modelo_item"
   ]
  },
  {
   "cell_type": "markdown",
   "metadata": {},
   "source": [
    "Creamos un dataframe solo con las columnas que necesitamos ('item_id', 'app_name' y 'genres')"
   ]
  },
  {
   "cell_type": "code",
   "execution_count": null,
   "metadata": {},
   "outputs": [],
   "source": [
    "modelo_item = modelo_item[['item_id', 'app_name', 'genres']]\n",
    "modelo_item"
   ]
  },
  {
   "cell_type": "code",
   "execution_count": null,
   "metadata": {},
   "outputs": [],
   "source": [
    "#vemos la informacion de este nuevo df\n",
    "modelo_item.info()"
   ]
  },
  {
   "cell_type": "markdown",
   "metadata": {},
   "source": [
    "procedemos a guardar dicho df en formato CSV\n"
   ]
  },
  {
   "cell_type": "code",
   "execution_count": null,
   "metadata": {},
   "outputs": [],
   "source": [
    "modelo_item.to_csv('dataset_limpio/modelo_item.csv', index=False, encoding='utf-8')"
   ]
  },
  {
   "cell_type": "code",
   "execution_count": null,
   "metadata": {},
   "outputs": [],
   "source": [
    "modelo_item = pd.read_csv(\"dataset_limpio/modelo_item.csv\") # leemos el archivo csv\n",
    "\n",
    "tabla = pa.Table.from_pandas(modelo_item) # convertimos el dataframe en una tabla de pyarrow\n",
    "pq.write_table(tabla,\"dataset_limpio/modelo_item.parquet\") # exportamos la tabla a parquet"
   ]
  }
 ],
 "metadata": {
  "kernelspec": {
   "display_name": "Python 3",
   "language": "python",
   "name": "python3"
  },
  "language_info": {
   "codemirror_mode": {
    "name": "ipython",
    "version": 3
   },
   "file_extension": ".py",
   "mimetype": "text/x-python",
   "name": "python",
   "nbconvert_exporter": "python",
   "pygments_lexer": "ipython3",
   "version": "3.12.4"
  }
 },
 "nbformat": 4,
 "nbformat_minor": 2
}
