{
 "cells": [
  {
   "cell_type": "code",
   "execution_count": 1,
   "metadata": {},
   "outputs": [],
   "source": [
    "import pyarrow as pa\n",
    "import pyarrow.parquet as pq\n",
    "import pandas as pd\n",
    "import numpy as np\n",
    "from sklearn.metrics.pairwise import cosine_similarity"
   ]
  },
  {
   "cell_type": "markdown",
   "metadata": {},
   "source": [
    "### def developer(desarrolladora : str)"
   ]
  },
  {
   "cell_type": "code",
   "execution_count": 5,
   "metadata": {},
   "outputs": [],
   "source": [
    "def developer (desarrollador):\n",
    "    \n",
    "    # Importa el archivo \n",
    "    df_dev = pd.read_parquet('def_developer.parquet')\n",
    "\n",
    "    if desarrollador in df_dev['developer'].values:\n",
    "\n",
    "        #Se crea un dataframe  con los datos del desarrollador\n",
    "        dev = df_dev[df_dev['developer']==desarrollador]\n",
    "\n",
    "        # Se crean las columnas 'free' y 'tot' para hacer el conteo de items\n",
    "        dev['free']=dev['price'].apply(lambda x: 1 if x == 0 else 0) # 1 para cada item Free\n",
    "        dev['tot']=1 # 1 para todos los items\n",
    "\n",
    "        # Se agrupan los registros por desarrollador y año. Se suma la cantidad de items Free y se cuentan los Total\n",
    "        dev = dev.groupby(['developer','year']).agg({'free': 'sum','tot':'count'}).reset_index()\n",
    "        \n",
    "        # Se calcula el porcentaje de contenido Free\n",
    "        dev['percentage']=((dev['free']/dev['tot'])*100).round(2)\n",
    "\n",
    "        # Se borran las columnas auxiliares y se cambian los nombres de las que contienen el resultado\n",
    "        dev.drop(columns=['developer','free'],inplace=True)\n",
    "        dev.rename(columns={'release_year':'año','tot':'Cantidad de items','percentage':'Contenido Free (%)'},inplace=True)\n",
    "        \n",
    "        return dev # Se devuelve el DataFrame\n",
    "    \n",
    "    else:\n",
    "\n",
    "        return f'Desarrollador {desarrollador} no encontrado'"
   ]
  },
  {
   "cell_type": "code",
   "execution_count": 6,
   "metadata": {},
   "outputs": [
    {
     "name": "stderr",
     "output_type": "stream",
     "text": [
      "C:\\Users\\Usuario\\AppData\\Local\\Temp\\ipykernel_1900\\829570361.py:12: SettingWithCopyWarning: \n",
      "A value is trying to be set on a copy of a slice from a DataFrame.\n",
      "Try using .loc[row_indexer,col_indexer] = value instead\n",
      "\n",
      "See the caveats in the documentation: https://pandas.pydata.org/pandas-docs/stable/user_guide/indexing.html#returning-a-view-versus-a-copy\n",
      "  dev['free']=dev['price'].apply(lambda x: 1 if x == 0 else 0) # 1 para cada item Free\n",
      "C:\\Users\\Usuario\\AppData\\Local\\Temp\\ipykernel_1900\\829570361.py:13: SettingWithCopyWarning: \n",
      "A value is trying to be set on a copy of a slice from a DataFrame.\n",
      "Try using .loc[row_indexer,col_indexer] = value instead\n",
      "\n",
      "See the caveats in the documentation: https://pandas.pydata.org/pandas-docs/stable/user_guide/indexing.html#returning-a-view-versus-a-copy\n",
      "  dev['tot']=1 # 1 para todos los items\n"
     ]
    },
    {
     "data": {
      "text/html": [
       "<div>\n",
       "<style scoped>\n",
       "    .dataframe tbody tr th:only-of-type {\n",
       "        vertical-align: middle;\n",
       "    }\n",
       "\n",
       "    .dataframe tbody tr th {\n",
       "        vertical-align: top;\n",
       "    }\n",
       "\n",
       "    .dataframe thead th {\n",
       "        text-align: right;\n",
       "    }\n",
       "</style>\n",
       "<table border=\"1\" class=\"dataframe\">\n",
       "  <thead>\n",
       "    <tr style=\"text-align: right;\">\n",
       "      <th></th>\n",
       "      <th>year</th>\n",
       "      <th>Cantidad de items</th>\n",
       "      <th>Contenido Free (%)</th>\n",
       "    </tr>\n",
       "  </thead>\n",
       "  <tbody>\n",
       "    <tr>\n",
       "      <th>0</th>\n",
       "      <td>2014</td>\n",
       "      <td>2</td>\n",
       "      <td>0.00</td>\n",
       "    </tr>\n",
       "    <tr>\n",
       "      <th>1</th>\n",
       "      <td>2015</td>\n",
       "      <td>2</td>\n",
       "      <td>0.00</td>\n",
       "    </tr>\n",
       "    <tr>\n",
       "      <th>2</th>\n",
       "      <td>2016</td>\n",
       "      <td>41</td>\n",
       "      <td>9.76</td>\n",
       "    </tr>\n",
       "    <tr>\n",
       "      <th>3</th>\n",
       "      <td>2017</td>\n",
       "      <td>33</td>\n",
       "      <td>0.00</td>\n",
       "    </tr>\n",
       "  </tbody>\n",
       "</table>\n",
       "</div>"
      ],
      "text/plain": [
       "   year  Cantidad de items  Contenido Free (%)\n",
       "0  2014                  2                0.00\n",
       "1  2015                  2                0.00\n",
       "2  2016                 41                9.76\n",
       "3  2017                 33                0.00"
      ]
     },
     "execution_count": 6,
     "metadata": {},
     "output_type": "execute_result"
    }
   ],
   "source": [
    "developer('DL Softworks')"
   ]
  },
  {
   "cell_type": "code",
   "execution_count": 7,
   "metadata": {},
   "outputs": [
    {
     "data": {
      "text/plain": [
       "'Desarrollador Ashes no encontrado'"
      ]
     },
     "execution_count": 7,
     "metadata": {},
     "output_type": "execute_result"
    }
   ],
   "source": [
    "developer('Ashes')"
   ]
  },
  {
   "cell_type": "markdown",
   "metadata": {},
   "source": [
    "### def UserForGenre( genero : str )"
   ]
  },
  {
   "cell_type": "code",
   "execution_count": 13,
   "metadata": {},
   "outputs": [],
   "source": [
    "def UserForGenre (genero):\n",
    "\n",
    "    # Importa el archivo\n",
    "    df_user_gen = pd.read_parquet('def_userforgenre.parquet')\n",
    "        # Columnas:\n",
    "            # user_id\n",
    "            # item_id\n",
    "            # playtime_forever\n",
    "            # genres\n",
    "            # year\n",
    "\n",
    "    # Se crea un DataFrame con los registros que contienen en su lista de generos el genero ingresado por parametro\n",
    "    df_gen = df_user_gen[df_user_gen['genres'].apply(lambda x: genero in x)]\n",
    "\n",
    "    # Se agrupan los registros por usuario y se suman los tiempos de juego\n",
    "    tot = df_gen.groupby(['user_id']).agg({'playtime_forever': 'sum'}).reset_index()\n",
    "\n",
    "    if tot.size > 0:\n",
    "        # Se ordenan los tiempos de juego y se toma el usuario correspondiente al mayor valor\n",
    "        u_most = tot.sort_values(by='playtime_forever',ascending=False).iloc[0,0]\n",
    "        \n",
    "        # Se filtra el DataFrame que contenia solo los registros del genero indicado para el usuario encontrado\n",
    "        df_user = df_gen[df_gen['user_id']==u_most]\n",
    "\n",
    "        # Se agrupan los resultados por año\n",
    "        df_user = df_user.groupby(['year']).agg({'playtime_forever': 'sum'}).reset_index()\n",
    "        \n",
    "        # Se renombran las columnas y se crea el diccionario para devolver\n",
    "        df_user.rename(columns={'year':'Año','playtime_forever':'Horas'},inplace=True)\n",
    "        res_dict = df_user.to_dict(orient='records')\n",
    "\n",
    "        return {f\"Usuario con más horas jugadas para Genero '{genero}'\" : u_most, \n",
    "                \"Horas jugadas\":res_dict}\n",
    "    \n",
    "    else:\n",
    "\n",
    "        return f\"No hay registros de horas de juego para Genero '{genero}'\""
   ]
  },
  {
   "cell_type": "code",
   "execution_count": 14,
   "metadata": {},
   "outputs": [
    {
     "data": {
      "text/plain": [
       "{\"Usuario con más horas jugadas para Genero 'Photo Editing'\": 'MarucTp',\n",
       " 'Horas jugadas': [{'Año': 2006, 'Horas': 2.6666666666666665}]}"
      ]
     },
     "execution_count": 14,
     "metadata": {},
     "output_type": "execute_result"
    }
   ],
   "source": [
    "UserForGenre('Photo Editing')"
   ]
  },
  {
   "cell_type": "code",
   "execution_count": 15,
   "metadata": {},
   "outputs": [
    {
     "data": {
      "text/plain": [
       "{\"Usuario con más horas jugadas para Genero 'Adventure'\": 'REBAS_AS_F-T',\n",
       " 'Horas jugadas': [{'Año': 2003, 'Horas': 0.0},\n",
       "  {'Año': 2008, 'Horas': 20.683333333333334},\n",
       "  {'Año': 2009, 'Horas': 268.2166666666667},\n",
       "  {'Año': 2010, 'Horas': 114.83333333333333},\n",
       "  {'Año': 2011, 'Horas': 816.6999999999999},\n",
       "  {'Año': 2012, 'Horas': 1295.9666666666667},\n",
       "  {'Año': 2013, 'Horas': 2436.4},\n",
       "  {'Año': 2014, 'Horas': 1647.1166666666668},\n",
       "  {'Año': 2015, 'Horas': 8600.666666666666},\n",
       "  {'Año': 2016, 'Horas': 9836.016666666666},\n",
       "  {'Año': 2017, 'Horas': 522.1166666666667}]}"
      ]
     },
     "execution_count": 15,
     "metadata": {},
     "output_type": "execute_result"
    }
   ],
   "source": [
    "UserForGenre('Adventure')"
   ]
  }
 ],
 "metadata": {
  "kernelspec": {
   "display_name": "Python 3",
   "language": "python",
   "name": "python3"
  },
  "language_info": {
   "codemirror_mode": {
    "name": "ipython",
    "version": 3
   },
   "file_extension": ".py",
   "mimetype": "text/x-python",
   "name": "python",
   "nbconvert_exporter": "python",
   "pygments_lexer": "ipython3",
   "version": "3.12.4"
  }
 },
 "nbformat": 4,
 "nbformat_minor": 2
}
